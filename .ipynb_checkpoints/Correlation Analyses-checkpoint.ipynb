{
 "cells": [
  {
   "cell_type": "markdown",
   "metadata": {},
   "source": [
    "# Testing correlations that should be similar for statistical significance using two-year data COMPAS data and Steiger and Fisher methods for comparing correlations"
   ]
  },
  {
   "cell_type": "code",
   "execution_count": 27,
   "metadata": {},
   "outputs": [],
   "source": [
    "from IPython.display import Image\n",
    "import pandas as pd\n",
    "import numpy as np\n",
    "from sklearn.datasets import load_breast_cancer\n",
    "\n",
    "import seaborn as sns\n",
    "sns.set(rc={'figure.figsize':(6,6)})\n",
    "\n",
    "import warnings\n",
    "warnings.simplefilter(\"ignore\")"
   ]
  },
  {
   "cell_type": "code",
   "execution_count": 28,
   "metadata": {},
   "outputs": [
    {
     "data": {
      "text/html": [
       "<div>\n",
       "<style scoped>\n",
       "    .dataframe tbody tr th:only-of-type {\n",
       "        vertical-align: middle;\n",
       "    }\n",
       "\n",
       "    .dataframe tbody tr th {\n",
       "        vertical-align: top;\n",
       "    }\n",
       "\n",
       "    .dataframe thead th {\n",
       "        text-align: right;\n",
       "    }\n",
       "</style>\n",
       "<table border=\"1\" class=\"dataframe\">\n",
       "  <thead>\n",
       "    <tr style=\"text-align: right;\">\n",
       "      <th></th>\n",
       "      <th>Unnamed: 0</th>\n",
       "      <th>id</th>\n",
       "      <th>name</th>\n",
       "      <th>first</th>\n",
       "      <th>last</th>\n",
       "      <th>sex</th>\n",
       "      <th>dob</th>\n",
       "      <th>age</th>\n",
       "      <th>age_cat</th>\n",
       "      <th>race</th>\n",
       "      <th>...</th>\n",
       "      <th>screening_date</th>\n",
       "      <th>v_type_of_assessment</th>\n",
       "      <th>v_decile_score</th>\n",
       "      <th>v_score_text</th>\n",
       "      <th>v_screening_date</th>\n",
       "      <th>in_custody</th>\n",
       "      <th>out_custody</th>\n",
       "      <th>end</th>\n",
       "      <th>event</th>\n",
       "      <th>two_year_recid</th>\n",
       "    </tr>\n",
       "  </thead>\n",
       "  <tbody>\n",
       "    <tr>\n",
       "      <th>0</th>\n",
       "      <td>0</td>\n",
       "      <td>1</td>\n",
       "      <td>miguel hernandez</td>\n",
       "      <td>miguel</td>\n",
       "      <td>hernandez</td>\n",
       "      <td>Male</td>\n",
       "      <td>1947-04-18</td>\n",
       "      <td>69</td>\n",
       "      <td>Greater than 45</td>\n",
       "      <td>Other</td>\n",
       "      <td>...</td>\n",
       "      <td>2013-08-14</td>\n",
       "      <td>Risk of Violence</td>\n",
       "      <td>1</td>\n",
       "      <td>Low</td>\n",
       "      <td>2013-08-14</td>\n",
       "      <td>2014-07-07</td>\n",
       "      <td>2014-07-14</td>\n",
       "      <td>327</td>\n",
       "      <td>0</td>\n",
       "      <td>0</td>\n",
       "    </tr>\n",
       "    <tr>\n",
       "      <th>1</th>\n",
       "      <td>1</td>\n",
       "      <td>3</td>\n",
       "      <td>kevon dixon</td>\n",
       "      <td>kevon</td>\n",
       "      <td>dixon</td>\n",
       "      <td>Male</td>\n",
       "      <td>1982-01-22</td>\n",
       "      <td>34</td>\n",
       "      <td>25 - 45</td>\n",
       "      <td>African-American</td>\n",
       "      <td>...</td>\n",
       "      <td>2013-01-27</td>\n",
       "      <td>Risk of Violence</td>\n",
       "      <td>1</td>\n",
       "      <td>Low</td>\n",
       "      <td>2013-01-27</td>\n",
       "      <td>2013-01-26</td>\n",
       "      <td>2013-02-05</td>\n",
       "      <td>159</td>\n",
       "      <td>1</td>\n",
       "      <td>1</td>\n",
       "    </tr>\n",
       "    <tr>\n",
       "      <th>2</th>\n",
       "      <td>2</td>\n",
       "      <td>4</td>\n",
       "      <td>ed philo</td>\n",
       "      <td>ed</td>\n",
       "      <td>philo</td>\n",
       "      <td>Male</td>\n",
       "      <td>1991-05-14</td>\n",
       "      <td>24</td>\n",
       "      <td>Less than 25</td>\n",
       "      <td>African-American</td>\n",
       "      <td>...</td>\n",
       "      <td>2013-04-14</td>\n",
       "      <td>Risk of Violence</td>\n",
       "      <td>3</td>\n",
       "      <td>Low</td>\n",
       "      <td>2013-04-14</td>\n",
       "      <td>2013-06-16</td>\n",
       "      <td>2013-06-16</td>\n",
       "      <td>63</td>\n",
       "      <td>0</td>\n",
       "      <td>1</td>\n",
       "    </tr>\n",
       "    <tr>\n",
       "      <th>3</th>\n",
       "      <td>3</td>\n",
       "      <td>5</td>\n",
       "      <td>marcu brown</td>\n",
       "      <td>marcu</td>\n",
       "      <td>brown</td>\n",
       "      <td>Male</td>\n",
       "      <td>1993-01-21</td>\n",
       "      <td>23</td>\n",
       "      <td>Less than 25</td>\n",
       "      <td>African-American</td>\n",
       "      <td>...</td>\n",
       "      <td>2013-01-13</td>\n",
       "      <td>Risk of Violence</td>\n",
       "      <td>6</td>\n",
       "      <td>Medium</td>\n",
       "      <td>2013-01-13</td>\n",
       "      <td>NaN</td>\n",
       "      <td>NaN</td>\n",
       "      <td>1174</td>\n",
       "      <td>0</td>\n",
       "      <td>0</td>\n",
       "    </tr>\n",
       "    <tr>\n",
       "      <th>4</th>\n",
       "      <td>4</td>\n",
       "      <td>6</td>\n",
       "      <td>bouthy pierrelouis</td>\n",
       "      <td>bouthy</td>\n",
       "      <td>pierrelouis</td>\n",
       "      <td>Male</td>\n",
       "      <td>1973-01-22</td>\n",
       "      <td>43</td>\n",
       "      <td>25 - 45</td>\n",
       "      <td>Other</td>\n",
       "      <td>...</td>\n",
       "      <td>2013-03-26</td>\n",
       "      <td>Risk of Violence</td>\n",
       "      <td>1</td>\n",
       "      <td>Low</td>\n",
       "      <td>2013-03-26</td>\n",
       "      <td>NaN</td>\n",
       "      <td>NaN</td>\n",
       "      <td>1102</td>\n",
       "      <td>0</td>\n",
       "      <td>0</td>\n",
       "    </tr>\n",
       "  </tbody>\n",
       "</table>\n",
       "<p>5 rows × 39 columns</p>\n",
       "</div>"
      ],
      "text/plain": [
       "   Unnamed: 0  id                name   first         last   sex         dob  \\\n",
       "0           0   1    miguel hernandez  miguel    hernandez  Male  1947-04-18   \n",
       "1           1   3         kevon dixon   kevon        dixon  Male  1982-01-22   \n",
       "2           2   4            ed philo      ed        philo  Male  1991-05-14   \n",
       "3           3   5         marcu brown   marcu        brown  Male  1993-01-21   \n",
       "4           4   6  bouthy pierrelouis  bouthy  pierrelouis  Male  1973-01-22   \n",
       "\n",
       "   age          age_cat              race  ...  screening_date  \\\n",
       "0   69  Greater than 45             Other  ...      2013-08-14   \n",
       "1   34          25 - 45  African-American  ...      2013-01-27   \n",
       "2   24     Less than 25  African-American  ...      2013-04-14   \n",
       "3   23     Less than 25  African-American  ...      2013-01-13   \n",
       "4   43          25 - 45             Other  ...      2013-03-26   \n",
       "\n",
       "   v_type_of_assessment v_decile_score v_score_text v_screening_date  \\\n",
       "0      Risk of Violence              1          Low       2013-08-14   \n",
       "1      Risk of Violence              1          Low       2013-01-27   \n",
       "2      Risk of Violence              3          Low       2013-04-14   \n",
       "3      Risk of Violence              6       Medium       2013-01-13   \n",
       "4      Risk of Violence              1          Low       2013-03-26   \n",
       "\n",
       "   in_custody out_custody   end event  two_year_recid  \n",
       "0  2014-07-07  2014-07-14   327     0               0  \n",
       "1  2013-01-26  2013-02-05   159     1               1  \n",
       "2  2013-06-16  2013-06-16    63     0               1  \n",
       "3         NaN         NaN  1174     0               0  \n",
       "4         NaN         NaN  1102     0               0  \n",
       "\n",
       "[5 rows x 39 columns]"
      ]
     },
     "execution_count": 28,
     "metadata": {},
     "output_type": "execute_result"
    }
   ],
   "source": [
    "df = pd.read_csv('data/compas-scores-two-years-clean')\n",
    "df.head()"
   ]
  },
  {
   "cell_type": "code",
   "execution_count": 29,
   "metadata": {},
   "outputs": [
    {
     "data": {
      "text/plain": [
       "-0.38773255375203747"
      ]
     },
     "execution_count": 29,
     "metadata": {},
     "output_type": "execute_result"
    }
   ],
   "source": [
    "#Correlation between age and decile score\n",
    "xy = df['age'].corr(df['decile_score'])\n",
    "xy"
   ]
  },
  {
   "cell_type": "code",
   "execution_count": 30,
   "metadata": {},
   "outputs": [
    {
     "data": {
      "text/plain": [
       "-0.1903234822204188"
      ]
     },
     "execution_count": 30,
     "metadata": {},
     "output_type": "execute_result"
    }
   ],
   "source": [
    "#Correlation between age and two-year recidivism\n",
    "xz = df['age'].corr(df['two_year_recid'])\n",
    "xz"
   ]
  },
  {
   "cell_type": "code",
   "execution_count": 31,
   "metadata": {},
   "outputs": [
    {
     "data": {
      "text/plain": [
       "0.35070264269452134"
      ]
     },
     "execution_count": 31,
     "metadata": {},
     "output_type": "execute_result"
    }
   ],
   "source": [
    "#Correlation between decile score and two-year recidivism\n",
    "yz = df['decile_score'].corr(df['two_year_recid'])\n",
    "yz"
   ]
  },
  {
   "cell_type": "code",
   "execution_count": 32,
   "metadata": {},
   "outputs": [
    {
     "data": {
      "text/plain": [
       "7214"
      ]
     },
     "execution_count": 32,
     "metadata": {},
     "output_type": "execute_result"
    }
   ],
   "source": [
    "df['age'].count()"
   ]
  },
  {
   "cell_type": "code",
   "execution_count": 33,
   "metadata": {},
   "outputs": [
    {
     "data": {
      "text/plain": [
       "7214"
      ]
     },
     "execution_count": 33,
     "metadata": {},
     "output_type": "execute_result"
    }
   ],
   "source": [
    "df['decile_score'].count()"
   ]
  },
  {
   "cell_type": "code",
   "execution_count": 34,
   "metadata": {},
   "outputs": [
    {
     "data": {
      "text/plain": [
       "7214"
      ]
     },
     "execution_count": 34,
     "metadata": {},
     "output_type": "execute_result"
    }
   ],
   "source": [
    "n = df['two_year_recid'].count()\n",
    "n"
   ]
  },
  {
   "cell_type": "markdown",
   "metadata": {},
   "source": [
    "## Hypothesis: COMPAS risk scores overestimate decline in recidivism with age"
   ]
  },
  {
   "cell_type": "code",
   "execution_count": 35,
   "metadata": {},
   "outputs": [],
   "source": [
    "import numpy as np\n",
    "from scipy.stats import t, norm\n",
    "from math import atanh, pow\n",
    "from numpy import tanh"
   ]
  },
  {
   "cell_type": "code",
   "execution_count": 36,
   "metadata": {},
   "outputs": [],
   "source": [
    "def dependent_corr(xy, xz, yz, n, twotailed=True, conf_level=0.95):\n",
    "    \"\"\"\n",
    "    Calculates the statistical significance between two dependent correlation coefficients\n",
    "    @param xy: correlation coefficient between x and y\n",
    "    @param xz: correlation coefficient between x and z\n",
    "    @param yz: correlation coefficient between y and z\n",
    "    @param n: number of elements in x, y and z\n",
    "    @param twotailed: whether to calculate a one or two tailed test, only works for 'steiger' method\n",
    "    @param conf_level: confidence level, only works for 'zou' method\n",
    "    @param method: defines the method uses, 'steiger' or 'zou'\n",
    "    @return: t and p-val\n",
    "    \"\"\"\n",
    "    d = xy - xz\n",
    "    determin = 1 - xy * xy - xz * xz - yz * yz + 2 * xy * xz * yz\n",
    "    av = (xy + xz)/2\n",
    "    cube = (1 - yz) * (1 - yz) * (1 - yz)\n",
    "\n",
    "    t2 = d * np.sqrt((n - 1) * (1 + yz)/(((2 * (n - 1)/(n - 3)) * determin + av * av * cube)))\n",
    "    p = 1 - t.cdf(abs(t2), n - 3)\n",
    "\n",
    "    if twotailed:\n",
    "        p *= 2\n",
    "    \n",
    "    return t2, p"
   ]
  },
  {
   "cell_type": "code",
   "execution_count": 37,
   "metadata": {
    "scrolled": true
   },
   "outputs": [
    {
     "data": {
      "text/plain": [
       "(-15.868951111828885, 0.0)"
      ]
     },
     "execution_count": 37,
     "metadata": {},
     "output_type": "execute_result"
    }
   ],
   "source": [
    "dependent_corr(xy, xz, yz, n, twotailed = False)"
   ]
  },
  {
   "cell_type": "markdown",
   "metadata": {},
   "source": [
    "#### The p-value for the difference between age vs. recidivism and decile score vs. recidivism is 0, so we can conclude that the COMPAS risk scores overestimate the degree to which recidivism declines with age."
   ]
  },
  {
   "cell_type": "markdown",
   "metadata": {},
   "source": [
    "## Hypothesis: COMPAS risk scores overestimate decline in violent recidivism with age"
   ]
  },
  {
   "cell_type": "code",
   "execution_count": 56,
   "metadata": {},
   "outputs": [
    {
     "data": {
      "text/plain": [
       "-0.5758998496151271"
      ]
     },
     "execution_count": 56,
     "metadata": {},
     "output_type": "execute_result"
    }
   ],
   "source": [
    "xy = df['age'].corr(df['v_decile_score'])\n",
    "xy"
   ]
  },
  {
   "cell_type": "code",
   "execution_count": 59,
   "metadata": {},
   "outputs": [
    {
     "data": {
      "text/html": [
       "<div>\n",
       "<style scoped>\n",
       "    .dataframe tbody tr th:only-of-type {\n",
       "        vertical-align: middle;\n",
       "    }\n",
       "\n",
       "    .dataframe tbody tr th {\n",
       "        vertical-align: top;\n",
       "    }\n",
       "\n",
       "    .dataframe thead th {\n",
       "        text-align: right;\n",
       "    }\n",
       "</style>\n",
       "<table border=\"1\" class=\"dataframe\">\n",
       "  <thead>\n",
       "    <tr style=\"text-align: right;\">\n",
       "      <th></th>\n",
       "      <th>Unnamed: 0</th>\n",
       "      <th>id</th>\n",
       "      <th>age</th>\n",
       "      <th>decile_score</th>\n",
       "      <th>priors_count</th>\n",
       "      <th>is_recid</th>\n",
       "      <th>r_days_from_arrest</th>\n",
       "      <th>violent_recid</th>\n",
       "      <th>is_violent_recid</th>\n",
       "      <th>decile_score.1</th>\n",
       "      <th>v_decile_score</th>\n",
       "      <th>end</th>\n",
       "      <th>event</th>\n",
       "      <th>two_year_recid</th>\n",
       "    </tr>\n",
       "  </thead>\n",
       "  <tbody>\n",
       "    <tr>\n",
       "      <th>count</th>\n",
       "      <td>7214.000000</td>\n",
       "      <td>7214.000000</td>\n",
       "      <td>7214.000000</td>\n",
       "      <td>7214.000000</td>\n",
       "      <td>7214.000000</td>\n",
       "      <td>7214.000000</td>\n",
       "      <td>2316.000000</td>\n",
       "      <td>0.0</td>\n",
       "      <td>7214.000000</td>\n",
       "      <td>7214.000000</td>\n",
       "      <td>7214.000000</td>\n",
       "      <td>7214.000000</td>\n",
       "      <td>7214.000000</td>\n",
       "      <td>7214.000000</td>\n",
       "    </tr>\n",
       "    <tr>\n",
       "      <th>mean</th>\n",
       "      <td>3606.500000</td>\n",
       "      <td>5501.255753</td>\n",
       "      <td>34.817993</td>\n",
       "      <td>4.509565</td>\n",
       "      <td>3.472415</td>\n",
       "      <td>0.481148</td>\n",
       "      <td>20.269430</td>\n",
       "      <td>NaN</td>\n",
       "      <td>0.113529</td>\n",
       "      <td>4.509565</td>\n",
       "      <td>3.691849</td>\n",
       "      <td>553.436651</td>\n",
       "      <td>0.382867</td>\n",
       "      <td>0.450652</td>\n",
       "    </tr>\n",
       "    <tr>\n",
       "      <th>std</th>\n",
       "      <td>2082.646754</td>\n",
       "      <td>3175.706870</td>\n",
       "      <td>11.888922</td>\n",
       "      <td>2.856396</td>\n",
       "      <td>4.882538</td>\n",
       "      <td>0.499679</td>\n",
       "      <td>74.871668</td>\n",
       "      <td>NaN</td>\n",
       "      <td>0.317261</td>\n",
       "      <td>2.856396</td>\n",
       "      <td>2.510148</td>\n",
       "      <td>399.020583</td>\n",
       "      <td>0.486120</td>\n",
       "      <td>0.497593</td>\n",
       "    </tr>\n",
       "    <tr>\n",
       "      <th>min</th>\n",
       "      <td>0.000000</td>\n",
       "      <td>1.000000</td>\n",
       "      <td>18.000000</td>\n",
       "      <td>1.000000</td>\n",
       "      <td>0.000000</td>\n",
       "      <td>0.000000</td>\n",
       "      <td>-1.000000</td>\n",
       "      <td>NaN</td>\n",
       "      <td>0.000000</td>\n",
       "      <td>1.000000</td>\n",
       "      <td>1.000000</td>\n",
       "      <td>0.000000</td>\n",
       "      <td>0.000000</td>\n",
       "      <td>0.000000</td>\n",
       "    </tr>\n",
       "    <tr>\n",
       "      <th>25%</th>\n",
       "      <td>1803.250000</td>\n",
       "      <td>2735.250000</td>\n",
       "      <td>25.000000</td>\n",
       "      <td>2.000000</td>\n",
       "      <td>0.000000</td>\n",
       "      <td>0.000000</td>\n",
       "      <td>0.000000</td>\n",
       "      <td>NaN</td>\n",
       "      <td>0.000000</td>\n",
       "      <td>2.000000</td>\n",
       "      <td>1.000000</td>\n",
       "      <td>148.250000</td>\n",
       "      <td>0.000000</td>\n",
       "      <td>0.000000</td>\n",
       "    </tr>\n",
       "    <tr>\n",
       "      <th>50%</th>\n",
       "      <td>3606.500000</td>\n",
       "      <td>5509.500000</td>\n",
       "      <td>31.000000</td>\n",
       "      <td>4.000000</td>\n",
       "      <td>2.000000</td>\n",
       "      <td>0.000000</td>\n",
       "      <td>0.000000</td>\n",
       "      <td>NaN</td>\n",
       "      <td>0.000000</td>\n",
       "      <td>4.000000</td>\n",
       "      <td>3.000000</td>\n",
       "      <td>530.500000</td>\n",
       "      <td>0.000000</td>\n",
       "      <td>0.000000</td>\n",
       "    </tr>\n",
       "    <tr>\n",
       "      <th>75%</th>\n",
       "      <td>5409.750000</td>\n",
       "      <td>8246.500000</td>\n",
       "      <td>42.000000</td>\n",
       "      <td>7.000000</td>\n",
       "      <td>5.000000</td>\n",
       "      <td>1.000000</td>\n",
       "      <td>1.000000</td>\n",
       "      <td>NaN</td>\n",
       "      <td>0.000000</td>\n",
       "      <td>7.000000</td>\n",
       "      <td>5.000000</td>\n",
       "      <td>914.000000</td>\n",
       "      <td>1.000000</td>\n",
       "      <td>1.000000</td>\n",
       "    </tr>\n",
       "    <tr>\n",
       "      <th>max</th>\n",
       "      <td>7213.000000</td>\n",
       "      <td>11001.000000</td>\n",
       "      <td>96.000000</td>\n",
       "      <td>10.000000</td>\n",
       "      <td>38.000000</td>\n",
       "      <td>1.000000</td>\n",
       "      <td>993.000000</td>\n",
       "      <td>NaN</td>\n",
       "      <td>1.000000</td>\n",
       "      <td>10.000000</td>\n",
       "      <td>10.000000</td>\n",
       "      <td>1186.000000</td>\n",
       "      <td>1.000000</td>\n",
       "      <td>1.000000</td>\n",
       "    </tr>\n",
       "  </tbody>\n",
       "</table>\n",
       "</div>"
      ],
      "text/plain": [
       "        Unnamed: 0            id          age  decile_score  priors_count  \\\n",
       "count  7214.000000   7214.000000  7214.000000   7214.000000   7214.000000   \n",
       "mean   3606.500000   5501.255753    34.817993      4.509565      3.472415   \n",
       "std    2082.646754   3175.706870    11.888922      2.856396      4.882538   \n",
       "min       0.000000      1.000000    18.000000      1.000000      0.000000   \n",
       "25%    1803.250000   2735.250000    25.000000      2.000000      0.000000   \n",
       "50%    3606.500000   5509.500000    31.000000      4.000000      2.000000   \n",
       "75%    5409.750000   8246.500000    42.000000      7.000000      5.000000   \n",
       "max    7213.000000  11001.000000    96.000000     10.000000     38.000000   \n",
       "\n",
       "          is_recid  r_days_from_arrest  violent_recid  is_violent_recid  \\\n",
       "count  7214.000000         2316.000000            0.0       7214.000000   \n",
       "mean      0.481148           20.269430            NaN          0.113529   \n",
       "std       0.499679           74.871668            NaN          0.317261   \n",
       "min       0.000000           -1.000000            NaN          0.000000   \n",
       "25%       0.000000            0.000000            NaN          0.000000   \n",
       "50%       0.000000            0.000000            NaN          0.000000   \n",
       "75%       1.000000            1.000000            NaN          0.000000   \n",
       "max       1.000000          993.000000            NaN          1.000000   \n",
       "\n",
       "       decile_score.1  v_decile_score          end        event  \\\n",
       "count     7214.000000     7214.000000  7214.000000  7214.000000   \n",
       "mean         4.509565        3.691849   553.436651     0.382867   \n",
       "std          2.856396        2.510148   399.020583     0.486120   \n",
       "min          1.000000        1.000000     0.000000     0.000000   \n",
       "25%          2.000000        1.000000   148.250000     0.000000   \n",
       "50%          4.000000        3.000000   530.500000     0.000000   \n",
       "75%          7.000000        5.000000   914.000000     1.000000   \n",
       "max         10.000000       10.000000  1186.000000     1.000000   \n",
       "\n",
       "       two_year_recid  \n",
       "count     7214.000000  \n",
       "mean         0.450652  \n",
       "std          0.497593  \n",
       "min          0.000000  \n",
       "25%          0.000000  \n",
       "50%          0.000000  \n",
       "75%          1.000000  \n",
       "max          1.000000  "
      ]
     },
     "execution_count": 59,
     "metadata": {},
     "output_type": "execute_result"
    }
   ],
   "source": [
    "df.describe()"
   ]
  },
  {
   "cell_type": "code",
   "execution_count": 57,
   "metadata": {},
   "outputs": [
    {
     "data": {
      "text/plain": [
       "-0.09703285771719442"
      ]
     },
     "execution_count": 57,
     "metadata": {},
     "output_type": "execute_result"
    }
   ],
   "source": [
    "xz = df['age'].corr(df['is_violent_recid'])\n",
    "xz"
   ]
  },
  {
   "cell_type": "code",
   "execution_count": 58,
   "metadata": {},
   "outputs": [
    {
     "data": {
      "text/plain": [
       "0.17954998229700206"
      ]
     },
     "execution_count": 58,
     "metadata": {},
     "output_type": "execute_result"
    }
   ],
   "source": [
    "yz = df['v_decile_score'].corr(df['is_violent_recid'])\n",
    "yz"
   ]
  },
  {
   "cell_type": "code",
   "execution_count": 60,
   "metadata": {},
   "outputs": [
    {
     "data": {
      "text/plain": [
       "(-37.92618864990362, 0.0)"
      ]
     },
     "execution_count": 60,
     "metadata": {},
     "output_type": "execute_result"
    }
   ],
   "source": [
    "dependent_corr(xy, xz, yz, 7214, twotailed = False)"
   ]
  },
  {
   "cell_type": "markdown",
   "metadata": {},
   "source": [
    "#### With a p-value of 0, we can conclude that the COMPAS risk scores for vi"
   ]
  },
  {
   "cell_type": "markdown",
   "metadata": {},
   "source": [
    "## Hypothesis: Correlation between decile score and recidivism is different for African-Americans than for Caucasians"
   ]
  },
  {
   "cell_type": "code",
   "execution_count": 38,
   "metadata": {},
   "outputs": [
    {
     "data": {
      "text/plain": [
       "0.33389497211860036"
      ]
     },
     "execution_count": 38,
     "metadata": {},
     "output_type": "execute_result"
    }
   ],
   "source": [
    "xy = (df[(df.race == 'African-American')].decile_score).corr(df['two_year_recid'])\n",
    "xy"
   ]
  },
  {
   "cell_type": "code",
   "execution_count": 39,
   "metadata": {},
   "outputs": [
    {
     "data": {
      "text/plain": [
       "0.3358525164041781"
      ]
     },
     "execution_count": 39,
     "metadata": {},
     "output_type": "execute_result"
    }
   ],
   "source": [
    "xz = (df[(df.race == 'Caucasian')].decile_score).corr(df['two_year_recid'])\n",
    "xz"
   ]
  },
  {
   "cell_type": "markdown",
   "metadata": {},
   "source": [
    "### Nevermind!"
   ]
  },
  {
   "cell_type": "markdown",
   "metadata": {},
   "source": [
    "## Hypothesis: Correlation between COMPAS risk scores and recidivism is higher for men than women"
   ]
  },
  {
   "cell_type": "code",
   "execution_count": 40,
   "metadata": {},
   "outputs": [],
   "source": [
    "# Rationale for one-tailed hypothesis: \n",
    "# https://www.propublica.org/article/how-we-analyzed-the-compas-recidivism-algorithm"
   ]
  },
  {
   "cell_type": "code",
   "execution_count": 41,
   "metadata": {},
   "outputs": [
    {
     "data": {
      "text/plain": [
       "0.3524960732182592"
      ]
     },
     "execution_count": 41,
     "metadata": {},
     "output_type": "execute_result"
    }
   ],
   "source": [
    "xy = (df[(df.sex == 'Male')].decile_score).corr(df['two_year_recid'])\n",
    "xy"
   ]
  },
  {
   "cell_type": "code",
   "execution_count": 42,
   "metadata": {},
   "outputs": [
    {
     "data": {
      "text/plain": [
       "Unnamed: 0              5819\n",
       "id                      5819\n",
       "name                    5819\n",
       "first                   5819\n",
       "last                    5819\n",
       "sex                     5819\n",
       "dob                     5819\n",
       "age                     5819\n",
       "age_cat                 5819\n",
       "race                    5819\n",
       "decile_score            5819\n",
       "priors_count            5819\n",
       "c_jail_in               5579\n",
       "c_jail_out              5579\n",
       "c_offense_date          4862\n",
       "c_charge_degree         5819\n",
       "c_charge_desc           5798\n",
       "is_recid                5819\n",
       "r_charge_degree         2941\n",
       "r_days_from_arrest      1970\n",
       "r_offense_date          2941\n",
       "r_charge_desc           2893\n",
       "r_jail_in               1970\n",
       "r_jail_out              1970\n",
       "violent_recid              0\n",
       "is_violent_recid        5819\n",
       "type_of_assessment      5819\n",
       "decile_score.1          5819\n",
       "score_text              5819\n",
       "screening_date          5819\n",
       "v_type_of_assessment    5819\n",
       "v_decile_score          5819\n",
       "v_score_text            5819\n",
       "v_screening_date        5819\n",
       "in_custody              5642\n",
       "out_custody             5642\n",
       "end                     5819\n",
       "event                   5819\n",
       "two_year_recid          5819\n",
       "dtype: int64"
      ]
     },
     "execution_count": 42,
     "metadata": {},
     "output_type": "execute_result"
    }
   ],
   "source": [
    "df[(df.sex == 'Male')].count()"
   ]
  },
  {
   "cell_type": "code",
   "execution_count": 43,
   "metadata": {},
   "outputs": [
    {
     "data": {
      "text/plain": [
       "0.3237400515740392"
      ]
     },
     "execution_count": 43,
     "metadata": {},
     "output_type": "execute_result"
    }
   ],
   "source": [
    "ab = (df[(df.sex == 'Female')].decile_score).corr(df['two_year_recid'])\n",
    "ab"
   ]
  },
  {
   "cell_type": "code",
   "execution_count": 44,
   "metadata": {},
   "outputs": [
    {
     "data": {
      "text/plain": [
       "Unnamed: 0              1395\n",
       "id                      1395\n",
       "name                    1395\n",
       "first                   1395\n",
       "last                    1395\n",
       "sex                     1395\n",
       "dob                     1395\n",
       "age                     1395\n",
       "age_cat                 1395\n",
       "race                    1395\n",
       "decile_score            1395\n",
       "priors_count            1395\n",
       "c_jail_in               1328\n",
       "c_jail_out              1328\n",
       "c_offense_date          1193\n",
       "c_charge_degree         1395\n",
       "c_charge_desc           1387\n",
       "is_recid                1395\n",
       "r_charge_degree          530\n",
       "r_days_from_arrest       346\n",
       "r_offense_date           530\n",
       "r_charge_desc            520\n",
       "r_jail_in                346\n",
       "r_jail_out               346\n",
       "violent_recid              0\n",
       "is_violent_recid        1395\n",
       "type_of_assessment      1395\n",
       "decile_score.1          1395\n",
       "score_text              1395\n",
       "screening_date          1395\n",
       "v_type_of_assessment    1395\n",
       "v_decile_score          1395\n",
       "v_score_text            1395\n",
       "v_screening_date        1395\n",
       "in_custody              1336\n",
       "out_custody             1336\n",
       "end                     1395\n",
       "event                   1395\n",
       "two_year_recid          1395\n",
       "dtype: int64"
      ]
     },
     "execution_count": 44,
     "metadata": {},
     "output_type": "execute_result"
    }
   ],
   "source": [
    "df[(df.sex == 'Female')].count()"
   ]
  },
  {
   "cell_type": "code",
   "execution_count": 45,
   "metadata": {},
   "outputs": [],
   "source": [
    "def independent_corr(xy, ab, n, n2 = None, twotailed=True, conf_level=0.95):\n",
    "    \"\"\"\n",
    "    Calculates the statistic significance between two independent correlation coefficients\n",
    "    @param xy: correlation coefficient between x and y\n",
    "    @param xz: correlation coefficient between a and b\n",
    "    @param n: number of elements in xy\n",
    "    @param n2: number of elements in ab (if distinct from n)\n",
    "    @param twotailed: whether to calculate a one or two tailed test, only works for 'fisher' method\n",
    "    @param conf_level: confidence level, only works for 'zou' method\n",
    "    @param method: defines the method uses, 'fisher' or 'zou'\n",
    "    @return: z and p-val\n",
    "    \"\"\"\n",
    "    xy_z = 0.5 * np.log((1 + xy)/(1 - xy))\n",
    "    ab_z = 0.5 * np.log((1 + ab)/(1 - ab))\n",
    "    if n2 is None:\n",
    "        n2 = n\n",
    "\n",
    "    se_diff_r = np.sqrt(1/(n - 3) + 1/(n2 - 3))\n",
    "    diff = xy_z - ab_z\n",
    "    z = abs(diff / se_diff_r)\n",
    "    p = (1 - norm.cdf(z))\n",
    "    if twotailed:\n",
    "        p *= 2\n",
    "\n",
    "    return z, p"
   ]
  },
  {
   "cell_type": "code",
   "execution_count": 46,
   "metadata": {},
   "outputs": [
    {
     "data": {
      "text/plain": [
       "(1.0882520987464426, 0.1382419153910024)"
      ]
     },
     "execution_count": 46,
     "metadata": {},
     "output_type": "execute_result"
    }
   ],
   "source": [
    "independent_corr(xy, ab, 5819, 1395, twotailed = False)"
   ]
  },
  {
   "cell_type": "markdown",
   "metadata": {},
   "source": [
    "### With a p-value of .14 at alpha = .05, we cannot conclude that the correlation between COMPAS risk scores and recidivism is significantly higher for men than for women, despite the article's recognition of a difference among men and women rated \"high risk\""
   ]
  },
  {
   "cell_type": "markdown",
   "metadata": {},
   "source": [
    "## Hypothesis: COMPAS risk scores overestimate increase in recidivism according to number of prior charges "
   ]
  },
  {
   "cell_type": "code",
   "execution_count": 47,
   "metadata": {},
   "outputs": [
    {
     "data": {
      "text/plain": [
       "0.43535010348696557"
      ]
     },
     "execution_count": 47,
     "metadata": {},
     "output_type": "execute_result"
    }
   ],
   "source": [
    "xy = df['priors_count'].corr(df['decile_score'])\n",
    "xy"
   ]
  },
  {
   "cell_type": "code",
   "execution_count": 53,
   "metadata": {},
   "outputs": [
    {
     "data": {
      "text/plain": [
       "7214"
      ]
     },
     "execution_count": 53,
     "metadata": {},
     "output_type": "execute_result"
    }
   ],
   "source": [
    "df['priors_count'].count()"
   ]
  },
  {
   "cell_type": "code",
   "execution_count": 50,
   "metadata": {},
   "outputs": [
    {
     "data": {
      "text/plain": [
       "0.2751168775635826"
      ]
     },
     "execution_count": 50,
     "metadata": {},
     "output_type": "execute_result"
    }
   ],
   "source": [
    "xz = df['priors_count'].corr(df['two_year_recid'])\n",
    "xz"
   ]
  },
  {
   "cell_type": "code",
   "execution_count": 52,
   "metadata": {},
   "outputs": [
    {
     "data": {
      "text/plain": [
       "0.35070264269452134"
      ]
     },
     "execution_count": 52,
     "metadata": {},
     "output_type": "execute_result"
    }
   ],
   "source": [
    "yz = df['decile_score'].corr(df['two_year_recid'])\n",
    "yz"
   ]
  },
  {
   "cell_type": "code",
   "execution_count": 55,
   "metadata": {},
   "outputs": [
    {
     "data": {
      "text/plain": [
       "(13.241918337760726, 0.0)"
      ]
     },
     "execution_count": 55,
     "metadata": {},
     "output_type": "execute_result"
    }
   ],
   "source": [
    "dependent_corr(xy, xz, yz, 7214, twotailed = False)"
   ]
  },
  {
   "cell_type": "markdown",
   "metadata": {},
   "source": [
    "### With a p-value of 0, we can conclude that the COMPAS risk scores overestimate increase in recidivism with increase in number of prior charges. "
   ]
  }
 ],
 "metadata": {
  "kernelspec": {
   "display_name": "Python 3",
   "language": "python",
   "name": "python3"
  },
  "language_info": {
   "codemirror_mode": {
    "name": "ipython",
    "version": 3
   },
   "file_extension": ".py",
   "mimetype": "text/x-python",
   "name": "python",
   "nbconvert_exporter": "python",
   "pygments_lexer": "ipython3",
   "version": "3.7.4"
  }
 },
 "nbformat": 4,
 "nbformat_minor": 4
}
